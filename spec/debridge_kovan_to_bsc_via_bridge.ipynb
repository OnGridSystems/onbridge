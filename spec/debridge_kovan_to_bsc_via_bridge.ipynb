{
 "cells": [
  {
   "cell_type": "code",
   "execution_count": 1,
   "id": "0379132e-3f41-4cdb-a410-433474d51f60",
   "metadata": {},
   "outputs": [],
   "source": [
    "import json\n",
    "from web3 import Web3\n",
    "from bip44 import Wallet\n",
    "from bip44.utils import get_eth_addr"
   ]
  },
  {
   "cell_type": "code",
   "execution_count": 2,
   "id": "cbb6d339-cb5f-4cd8-8ddd-0ac025460bb5",
   "metadata": {},
   "outputs": [],
   "source": [
    "MNEMONIC = \"test test test test test test test test test test test junk\"\n",
    "w = Wallet(MNEMONIC)\n",
    "sk, pk = w.derive_account(\"eth\", address_index=0)\n",
    "sender = get_eth_addr(pk)\n",
    "ZERO_ADDRESS = \"0x0000000000000000000000000000000000000000\"\n",
    "ETHER = int(1e18)\n",
    "\n",
    "# Minimal exec fee that is executed automatically by debridge oracles\n",
    "DEBRIDGE_EXEC_FEE = int(0.02 * ETHER)"
   ]
  },
  {
   "cell_type": "code",
   "execution_count": 3,
   "id": "fe4e8d8a-cddd-4d1a-b3dc-a95130cdc979",
   "metadata": {},
   "outputs": [],
   "source": [
    "kovan_provider = Web3(Web3.HTTPProvider(\"https://kovan.poa.network\"))"
   ]
  },
  {
   "cell_type": "code",
   "execution_count": 6,
   "id": "c6f738c0-1dac-4531-ad6f-ed30a1372d8a",
   "metadata": {},
   "outputs": [
    {
     "name": "stdout",
     "output_type": "stream",
     "text": [
      "Your address: 0xf39Fd6e51aad88F6F4ce6aB8827279cffFb92266\n",
      "Your balance is 0.9463974849948396 ETH\n"
     ]
    }
   ],
   "source": [
    "print(f\"Your address: {sender}\")\n",
    "eth_balance = kovan_provider.eth.get_balance(sender)\n",
    "print(f\"Your balance is {eth_balance/1e18} ETH\")\n",
    "if eth_balance < 0.5 * ETHER:\n",
    "    print(f\"You need to top up your account first via faucet\")\n",
    "    print(f\"https://faucet.paradigm.xyz/\")"
   ]
  },
  {
   "cell_type": "code",
   "execution_count": 7,
   "id": "9e6624d1-5f8c-45a6-ba99-fbeac93d8e2f",
   "metadata": {},
   "outputs": [],
   "source": [
    "with open('abis/DeBridgeGate.json') as json_file:\n",
    "    gate_abi = json.load(json_file)\n",
    "\n",
    "with open('abis/L1Bridge.json') as json_file:\n",
    "    bridge_abi = json.load(json_file)\n",
    "\n",
    "with open('abis/L1Token.json') as json_file:\n",
    "    token_abi = json.load(json_file)"
   ]
  },
  {
   "cell_type": "code",
   "execution_count": 8,
   "id": "81b9c244-5f60-458c-8a69-cbb6584695f1",
   "metadata": {},
   "outputs": [],
   "source": [
    "gate = kovan_provider.eth.contract(address='0x68D936Cb4723BdD38C488FD50514803f96789d2D', abi=gate_abi['abi'])"
   ]
  },
  {
   "cell_type": "code",
   "execution_count": 9,
   "id": "4b29f702-51d3-4e79-9aca-e165c7f0349f",
   "metadata": {},
   "outputs": [
    {
     "data": {
      "text/plain": [
       "10000000000000000"
      ]
     },
     "execution_count": 9,
     "metadata": {},
     "output_type": "execute_result"
    }
   ],
   "source": [
    "global_fixed_nativeFee = gate.functions.globalFixedNativeFee().call()\n",
    "global_fixed_nativeFee"
   ]
  },
  {
   "cell_type": "code",
   "execution_count": 11,
   "id": "c42e2db4-8a05-4e2a-9d9e-5d52dcfc7282",
   "metadata": {},
   "outputs": [],
   "source": [
    "bridge = kovan_provider.eth.contract(address='0x279e0cF58d6B3913C917222A61ba9ef5E9fF8057', abi=bridge_abi['abi'])"
   ]
  },
  {
   "cell_type": "code",
   "execution_count": 12,
   "id": "aebae279-4f21-482a-babf-d167e6299181",
   "metadata": {},
   "outputs": [
    {
     "data": {
      "text/plain": [
       "'0x55904F2C4B672103a4E04E6BFcb1c5DDC4f41D6F'"
      ]
     },
     "execution_count": 12,
     "metadata": {},
     "output_type": "execute_result"
    }
   ],
   "source": [
    "l1_token_address = bridge.functions.l1Token().call()\n",
    "l1_token_address"
   ]
  },
  {
   "cell_type": "code",
   "execution_count": 14,
   "id": "e02d19cd-4dcc-4b3c-9813-4ce918320856",
   "metadata": {},
   "outputs": [
    {
     "name": "stdout",
     "output_type": "stream",
     "text": [
      "0x55904F2C4B672103a4E04E6BFcb1c5DDC4f41D6F\n"
     ]
    }
   ],
   "source": [
    "l1_token = kovan_provider.eth.contract(address=l1_token_address, abi=token_abi['abi'])\n",
    "print(l1_token.address)"
   ]
  },
  {
   "cell_type": "code",
   "execution_count": 17,
   "id": "3ae34e6c-f2f4-4727-936b-76c5d2fa97f1",
   "metadata": {},
   "outputs": [
    {
     "name": "stdout",
     "output_type": "stream",
     "text": [
      "You have at least one token on your balance. Id: 23\n"
     ]
    }
   ],
   "source": [
    "# mint token if account doesn't have one\n",
    "\n",
    "from web3.exceptions import (ContractLogicError,)\n",
    "\n",
    "# find first token owned by the sender (with index0)\n",
    "try:\n",
    "    token_id = l1_token.functions.tokenOfOwnerByIndex(sender, 0).call()\n",
    "    token_id\n",
    "    print(f\"You have at least one token on your balance. Id: {token_id}\")\n",
    "    need_mint = False\n",
    "except:\n",
    "    print(\"it seems you have no tokens yet. We should mint one...\")\n",
    "    need_mint = True\n",
    "\n",
    "if need_mint:\n",
    "    token_id = 0\n",
    "    # We should find non-minted token_id first\n",
    "    while True:\n",
    "        try:\n",
    "            l1_token.functions.ownerOf(token_id).call()\n",
    "            token_id += 1\n",
    "        except ContractLogicError:\n",
    "            print(token_id, \"doesn't exist\")\n",
    "            break\n",
    "\n",
    "    print(\"minting it...\")\n",
    "    tx = l1_token.functions.mint(sender, token_id).buildTransaction({\"from\": sender, \"nonce\": kovan_provider.eth.get_transaction_count(sender)})\n",
    "    raw_tx = kovan_provider.eth.account.sign_transaction(tx, sk).rawTransaction\n",
    "    tx_hash = kovan_provider.eth.send_raw_transaction(raw_tx)\n",
    "    kovan_provider.eth.wait_for_transaction_receipt(tx_hash)\n",
    "    print(tx_hash.hex(), \" mined so token should be minted\")"
   ]
  },
  {
   "cell_type": "code",
   "execution_count": 18,
   "id": "837cd12b-02e2-4e62-ad85-7ba8aae76e59",
   "metadata": {
    "tags": []
   },
   "outputs": [
    {
     "name": "stdout",
     "output_type": "stream",
     "text": [
      "already approved\n"
     ]
    }
   ],
   "source": [
    "# Check if tokens are approved for bridge gateway\n",
    "\n",
    "if (not l1_token.functions.isApprovedForAll(sender, bridge.address).call()):\n",
    "    print(\"not approved yet. Approving\")\n",
    "    tx = l1_token.functions.setApprovalForAll(bridge.address, True).buildTransaction({\"from\": sender, \"nonce\": kovan_provider.eth.get_transaction_count(sender)})\n",
    "    raw_tx = kovan_provider.eth.account.sign_transaction(tx, sk).rawTransaction\n",
    "    tx_hash = kovan_provider.eth.send_raw_transaction(raw_tx)\n",
    "    kovan_provider.eth.wait_for_transaction_receipt(tx_hash)\n",
    "    print(tx_hash.hex(), \"mined\")\n",
    "else:\n",
    "    print(\"already approved\")"
   ]
  },
  {
   "cell_type": "code",
   "execution_count": 19,
   "id": "8e5dafea-b9d3-4358-9d28-2178c4cd9a10",
   "metadata": {},
   "outputs": [
    {
     "data": {
      "text/plain": [
       "30000000000000000"
      ]
     },
     "execution_count": 19,
     "metadata": {},
     "output_type": "execute_result"
    }
   ],
   "source": [
    "value = global_fixed_nativeFee + DEBRIDGE_EXEC_FEE\n",
    "value"
   ]
  },
  {
   "cell_type": "code",
   "execution_count": 20,
   "id": "d14e4f36-0c34-498f-bf9b-27f08077b74c",
   "metadata": {},
   "outputs": [
    {
     "data": {
      "text/plain": [
       "{'chainId': 42,\n",
       " 'from': '0xf39Fd6e51aad88F6F4ce6aB8827279cffFb92266',\n",
       " 'nonce': 2637,\n",
       " 'gasPrice': 10000000000,\n",
       " 'gas': 3000000,\n",
       " 'value': 50000000000000000,\n",
       " 'to': '0x279e0cF58d6B3913C917222A61ba9ef5E9fF8057',\n",
       " 'data': '0x8ba9c828000000000000000000000000f39fd6e51aad88f6f4ce6ab8827279cfffb922660000000000000000000000000000000000000000000000000000000000000017'}"
      ]
     },
     "execution_count": 20,
     "metadata": {},
     "output_type": "execute_result"
    }
   ],
   "source": [
    "tx = bridge.functions.outboundTransfer(sender, token_id).buildTransaction({\"from\": sender, \"nonce\": kovan_provider.eth.get_transaction_count(sender),\n",
    " \"gasPrice\": 10_000_000_000, \"gas\": 3_000_000, \"value\": 50000000000000000 })\n",
    "tx"
   ]
  },
  {
   "cell_type": "code",
   "execution_count": 21,
   "id": "da184924-ba76-4295-9c65-cddd8ffb4b59",
   "metadata": {},
   "outputs": [],
   "source": [
    "raw_tx = kovan_provider.eth.account.sign_transaction(tx, sk).rawTransaction"
   ]
  },
  {
   "cell_type": "code",
   "execution_count": 22,
   "id": "f05adeee-298f-42b2-be17-ca0305b7427d",
   "metadata": {},
   "outputs": [
    {
     "data": {
      "text/plain": [
       "HexBytes('0xdaa29ad497ca52dab49ef30bea05bee1b81e9f7792fa923c5316ce349fe521ad')"
      ]
     },
     "execution_count": 22,
     "metadata": {},
     "output_type": "execute_result"
    }
   ],
   "source": [
    "tx_hash = kovan_provider.eth.send_raw_transaction(raw_tx)\n",
    "tx_hash"
   ]
  },
  {
   "cell_type": "code",
   "execution_count": 24,
   "id": "5abe955e-013a-4679-9256-44ed2f5697a8",
   "metadata": {},
   "outputs": [
    {
     "name": "stdout",
     "output_type": "stream",
     "text": [
      "Tx 0xdaa29ad497ca52dab49ef30bea05bee1b81e9f7792fa923c5316ce349fe521ad Succeeded.\n",
      "See it on DeBridge dashboard: https://testnet.debridge.finance/transaction?tx=0xdaa29ad497ca52dab49ef30bea05bee1b81e9f7792fa923c5316ce349fe521ad&chainId=42\n"
     ]
    }
   ],
   "source": [
    "send_receipt = kovan_provider.eth.wait_for_transaction_receipt(tx_hash)\n",
    "if len(send_receipt.logs) < 5 and send_receipt.status == 1:\n",
    "    print(f\"Tx {tx_hash.hex()} failed.\")\n",
    "    print(send_receipt)\n",
    "else:\n",
    "    print(f\"Tx {tx_hash.hex()} Succeeded.\")\n",
    "    print(\"See it on DeBridge dashboard: https://testnet.debridge.finance/transaction?tx=\" + tx_hash.hex() + \"&chainId=42\")"
   ]
  }
 ],
 "metadata": {
  "kernelspec": {
   "display_name": "Python 3 (ipykernel)",
   "language": "python",
   "name": "python3"
  },
  "language_info": {
   "codemirror_mode": {
    "name": "ipython",
    "version": 3
   },
   "file_extension": ".py",
   "mimetype": "text/x-python",
   "name": "python",
   "nbconvert_exporter": "python",
   "pygments_lexer": "ipython3",
   "version": "3.9.0"
  }
 },
 "nbformat": 4,
 "nbformat_minor": 5
}
