{
 "cells": [
  {
   "cell_type": "code",
   "execution_count": 1,
   "id": "0379132e-3f41-4cdb-a410-433474d51f60",
   "metadata": {},
   "outputs": [],
   "source": [
    "import json\n",
    "from web3 import Web3\n",
    "from bip44 import Wallet\n",
    "from bip44.utils import get_eth_addr"
   ]
  },
  {
   "cell_type": "code",
   "execution_count": 2,
   "id": "cbb6d339-cb5f-4cd8-8ddd-0ac025460bb5",
   "metadata": {},
   "outputs": [],
   "source": [
    "MNEMONIC = \"test test test test test test test test test test test junk\"\n",
    "w = Wallet(MNEMONIC)\n",
    "sk, pk = w.derive_account(\"eth\", address_index=0)\n",
    "sender = get_eth_addr(pk)\n",
    "ZERO_ADDRESS = \"0x0000000000000000000000000000000000000000\"\n",
    "ETHER = int(1e18)\n",
    "\n",
    "# Minimal exec fee that is executed automatically by debridge oracles\n",
    "DEBRIDGE_EXEC_FEE = int(0.02 * ETHER)"
   ]
  },
  {
   "cell_type": "code",
   "execution_count": 3,
   "id": "9e6624d1-5f8c-45a6-ba99-fbeac93d8e2f",
   "metadata": {},
   "outputs": [],
   "source": [
    "with open('abis/DeBridgeGate.json') as json_file:\n",
    "    gate_abi = json.load(json_file)\n",
    "\n",
    "with open('abis/L1Bridge.json') as json_file:\n",
    "    bridge_abi = json.load(json_file)"
   ]
  },
  {
   "cell_type": "code",
   "execution_count": 4,
   "id": "1d93f917-5356-4e43-9f9f-d76b5d568a35",
   "metadata": {},
   "outputs": [],
   "source": [
    "kovan_provider = Web3(Web3.HTTPProvider(\"https://kovan.poa.network\"))\n",
    "#bsc_testnet_provider = Web3(Web3.HTTPProvider(\"https://data-seed-prebsc-1-s1.binance.org:8545/\"))\n",
    "bsc_testnet_chain_id = 97"
   ]
  },
  {
   "cell_type": "code",
   "execution_count": 5,
   "id": "81b9c244-5f60-458c-8a69-cbb6584695f1",
   "metadata": {},
   "outputs": [],
   "source": [
    "gate = kovan_provider.eth.contract(address='0x68D936Cb4723BdD38C488FD50514803f96789d2D', abi=gate_abi['abi'])"
   ]
  },
  {
   "cell_type": "code",
   "execution_count": 6,
   "id": "4b29f702-51d3-4e79-9aca-e165c7f0349f",
   "metadata": {},
   "outputs": [
    {
     "data": {
      "text/plain": [
       "10000000000000000"
      ]
     },
     "execution_count": 6,
     "metadata": {},
     "output_type": "execute_result"
    }
   ],
   "source": [
    "global_fixed_nativeFee = gate.functions.globalFixedNativeFee().call()\n",
    "global_fixed_nativeFee"
   ]
  },
  {
   "cell_type": "code",
   "execution_count": 7,
   "id": "c42e2db4-8a05-4e2a-9d9e-5d52dcfc7282",
   "metadata": {},
   "outputs": [
    {
     "data": {
      "text/plain": [
       "<web3._utils.datatypes.Contract at 0x7fdb4f07afa0>"
      ]
     },
     "execution_count": 7,
     "metadata": {},
     "output_type": "execute_result"
    }
   ],
   "source": [
    "bridge = kovan_provider.eth.contract(address='0x279e0cF58d6B3913C917222A61ba9ef5E9fF8057', abi=bridge_abi['abi'])\n",
    "bridge"
   ]
  },
  {
   "cell_type": "code",
   "execution_count": 8,
   "id": "aebae279-4f21-482a-babf-d167e6299181",
   "metadata": {},
   "outputs": [
    {
     "data": {
      "text/plain": [
       "'0x55904F2C4B672103a4E04E6BFcb1c5DDC4f41D6F'"
      ]
     },
     "execution_count": 8,
     "metadata": {},
     "output_type": "execute_result"
    }
   ],
   "source": [
    "bridge.functions.l1Token().call()"
   ]
  },
  {
   "cell_type": "code",
   "execution_count": 9,
   "id": "cf82897f-46cc-4936-a299-382c56976b58",
   "metadata": {},
   "outputs": [],
   "source": [
    "# on the destination network (L2Bridge)\n",
    "l2bridge = \"0x463b31B32417f122d25cbAF84Ff263723c11de64\""
   ]
  },
  {
   "cell_type": "code",
   "execution_count": 10,
   "id": "8e5dafea-b9d3-4358-9d28-2178c4cd9a10",
   "metadata": {},
   "outputs": [
    {
     "data": {
      "text/plain": [
       "30000000000000000"
      ]
     },
     "execution_count": 10,
     "metadata": {},
     "output_type": "execute_result"
    }
   ],
   "source": [
    "value = global_fixed_nativeFee + DEBRIDGE_EXEC_FEE\n",
    "value"
   ]
  },
  {
   "cell_type": "code",
   "execution_count": 11,
   "id": "4c9439ea-5d83-4b58-8218-9569a6c68b35",
   "metadata": {},
   "outputs": [],
   "source": [
    "# At this point you should approve token you plan to transfer"
   ]
  },
  {
   "cell_type": "code",
   "execution_count": 13,
   "id": "d14e4f36-0c34-498f-bf9b-27f08077b74c",
   "metadata": {},
   "outputs": [
    {
     "data": {
      "text/plain": [
       "{'chainId': 42,\n",
       " 'from': '0x49518ffe12fCda824FB39CCEa1cceDAf8A724FeB',\n",
       " 'nonce': 65,\n",
       " 'gasPrice': 10000000000,\n",
       " 'gas': 3000000,\n",
       " 'value': 50000000000000000,\n",
       " 'to': '0x279e0cF58d6B3913C917222A61ba9ef5E9fF8057',\n",
       " 'data': '0x8ba9c82800000000000000000000000049518ffe12fcda824fb39ccea1ccedaf8a724feb000000000000000000000000000000000000000000000000000000000000000e'}"
      ]
     },
     "execution_count": 13,
     "metadata": {},
     "output_type": "execute_result"
    }
   ],
   "source": [
    "tx = bridge.functions.outboundTransfer(sender, 14).buildTransaction({\"from\": sender, \"nonce\": kovan_provider.eth.get_transaction_count(sender),\n",
    " \"gasPrice\": 10_000_000_000, \"gas\": 3_000_000, \"value\": 50000000000000000 })\n",
    "tx"
   ]
  },
  {
   "cell_type": "code",
   "execution_count": 14,
   "id": "da184924-ba76-4295-9c65-cddd8ffb4b59",
   "metadata": {},
   "outputs": [],
   "source": [
    "raw_tx = kovan_provider.eth.account.sign_transaction(tx, sk).rawTransaction"
   ]
  },
  {
   "cell_type": "code",
   "execution_count": 15,
   "id": "f05adeee-298f-42b2-be17-ca0305b7427d",
   "metadata": {},
   "outputs": [
    {
     "data": {
      "text/plain": [
       "HexBytes('0x268d0ef897868058cd8c7b6547dbe3a5886ec5a37f173f97718e0dbfc1446d49')"
      ]
     },
     "execution_count": 15,
     "metadata": {},
     "output_type": "execute_result"
    }
   ],
   "source": [
    "tx_hash = kovan_provider.eth.send_raw_transaction(raw_tx)\n",
    "tx_hash"
   ]
  },
  {
   "cell_type": "code",
   "execution_count": 16,
   "id": "04d47a48-19c8-424f-9611-717ca332331f",
   "metadata": {},
   "outputs": [
    {
     "name": "stdout",
     "output_type": "stream",
     "text": [
      "https://testswap.debridge.finance/transaction?tx=0x268d0ef897868058cd8c7b6547dbe3a5886ec5a37f173f97718e0dbfc1446d49&chainId=42\n"
     ]
    }
   ],
   "source": [
    "print(\"https://testswap.debridge.finance/transaction?tx=\" + tx_hash.hex() + \"&chainId=42\")"
   ]
  },
  {
   "cell_type": "code",
   "execution_count": 17,
   "id": "5abe955e-013a-4679-9256-44ed2f5697a8",
   "metadata": {},
   "outputs": [
    {
     "data": {
      "text/plain": [
       "AttributeDict({'blockHash': HexBytes('0x094b050f91f59e7513f4b4fff5bb0a4b3d2cb8af6583613104cb55ae8cfec813'),\n",
       " 'blockNumber': 29021340,\n",
       " 'contractAddress': None,\n",
       " 'cumulativeGasUsed': 196983,\n",
       " 'effectiveGasPrice': 10000000000,\n",
       " 'from': '0x49518ffe12fCda824FB39CCEa1cceDAf8A724FeB',\n",
       " 'gasUsed': 196983,\n",
       " 'logs': [AttributeDict({'address': '0x55904F2C4B672103a4E04E6BFcb1c5DDC4f41D6F',\n",
       "   'blockHash': HexBytes('0x094b050f91f59e7513f4b4fff5bb0a4b3d2cb8af6583613104cb55ae8cfec813'),\n",
       "   'blockNumber': 29021340,\n",
       "   'data': '0x',\n",
       "   'logIndex': 0,\n",
       "   'removed': False,\n",
       "   'topics': [HexBytes('0x8c5be1e5ebec7d5bd14f71427d1e84f3dd0314c0f7b2291e5b200ac8c7c3b925'),\n",
       "    HexBytes('0x00000000000000000000000049518ffe12fcda824fb39ccea1ccedaf8a724feb'),\n",
       "    HexBytes('0x0000000000000000000000000000000000000000000000000000000000000000'),\n",
       "    HexBytes('0x000000000000000000000000000000000000000000000000000000000000000e')],\n",
       "   'transactionHash': HexBytes('0x268d0ef897868058cd8c7b6547dbe3a5886ec5a37f173f97718e0dbfc1446d49'),\n",
       "   'transactionIndex': 0,\n",
       "   'transactionLogIndex': '0x0',\n",
       "   'type': 'mined'}),\n",
       "  AttributeDict({'address': '0x55904F2C4B672103a4E04E6BFcb1c5DDC4f41D6F',\n",
       "   'blockHash': HexBytes('0x094b050f91f59e7513f4b4fff5bb0a4b3d2cb8af6583613104cb55ae8cfec813'),\n",
       "   'blockNumber': 29021340,\n",
       "   'data': '0x',\n",
       "   'logIndex': 1,\n",
       "   'removed': False,\n",
       "   'topics': [HexBytes('0xddf252ad1be2c89b69c2b068fc378daa952ba7f163c4a11628f55a4df523b3ef'),\n",
       "    HexBytes('0x00000000000000000000000049518ffe12fcda824fb39ccea1ccedaf8a724feb'),\n",
       "    HexBytes('0x000000000000000000000000279e0cf58d6b3913c917222a61ba9ef5e9ff8057'),\n",
       "    HexBytes('0x000000000000000000000000000000000000000000000000000000000000000e')],\n",
       "   'transactionHash': HexBytes('0x268d0ef897868058cd8c7b6547dbe3a5886ec5a37f173f97718e0dbfc1446d49'),\n",
       "   'transactionIndex': 0,\n",
       "   'transactionLogIndex': '0x1',\n",
       "   'type': 'mined'}),\n",
       "  AttributeDict({'address': '0xd0A1E359811322d97991E03f863a0C30C2cF029C',\n",
       "   'blockHash': HexBytes('0x094b050f91f59e7513f4b4fff5bb0a4b3d2cb8af6583613104cb55ae8cfec813'),\n",
       "   'blockNumber': 29021340,\n",
       "   'data': '0x00000000000000000000000000000000000000000000000000b1a2bc2ec50000',\n",
       "   'logIndex': 2,\n",
       "   'removed': False,\n",
       "   'topics': [HexBytes('0xe1fffcc4923d04b559f4d29a8bfc6cda04eb5b0d3c460751c2402c5c5cc9109c'),\n",
       "    HexBytes('0x00000000000000000000000068d936cb4723bdd38c488fd50514803f96789d2d')],\n",
       "   'transactionHash': HexBytes('0x268d0ef897868058cd8c7b6547dbe3a5886ec5a37f173f97718e0dbfc1446d49'),\n",
       "   'transactionIndex': 0,\n",
       "   'transactionLogIndex': '0x2',\n",
       "   'type': 'mined'}),\n",
       "  AttributeDict({'address': '0x68D936Cb4723BdD38C488FD50514803f96789d2D',\n",
       "   'blockHash': HexBytes('0x094b050f91f59e7513f4b4fff5bb0a4b3d2cb8af6583613104cb55ae8cfec813'),\n",
       "   'blockNumber': 29021340,\n",
       "   'data': '0x3008fde794d09d1395930b3eb277f8c073158b0cae20c8b295aea745853ac4da00000000000000000000000000000000000000000000000000235978e783e000000000000000000000000000000000000000000000000000000000000000018000000000000000000000000000000000000000000000000000000000000195c6000000000000000000000000000000000000000000000000000000000000000000000000000000000000000000000000000000000000000000b1a2bc2ec50000000000000000000000000000000000000000000000000000002386f26fc1000000000000000000000000000000000000000000000000000000002d79883d20000000000000000000000000000000000000000000000000000000000000000001000000000000000000000000000000000000000000000000000000000000000100000000000000000000000000000000000000000000000000000000000001c0000000000000000000000000279e0cf58d6b3913c917222a61ba9ef5e9ff80570000000000000000000000000000000000000000000000000000000000000014463b31b32417f122d25cbaf84ff263723c11de6400000000000000000000000000000000000000000000000000000000000000000000000000000000000001a00000000000000000000000000000000000000000000000000000000000000020000000000000000000000000000000000000000000000000006a94d74f4300000000000000000000000000000000000000000000000000000000000000000006000000000000000000000000000000000000000000000000000000000000008000000000000000000000000000000000000000000000000000000000000000c00000000000000000000000000000000000000000000000000000000000000014463b31b32417f122d25cbaf84ff263723c11de640000000000000000000000000000000000000000000000000000000000000000000000000000000000000084d72ce90e00000000000000000000000049518ffe12fcda824fb39ccea1ccedaf8a724feb0000000000000000000000000000000000000000000000000000000000000060000000000000000000000000000000000000000000000000000000000000000e000000000000000000000000000000000000000000000000000000000000000000000000000000000000000000000000000000000000000000000000',\n",
       "   'logIndex': 3,\n",
       "   'removed': False,\n",
       "   'topics': [HexBytes('0xe315721819a1f353fe56de404206bdd896ab5edc7822f1804a8c4c2c4788174c'),\n",
       "    HexBytes('0x9805a0d9ee98ce5dae28a1799074e6121c863794c241beefd9dc1b0b083018e9'),\n",
       "    HexBytes('0x0000000000000000000000000000000000000000000000000000000000000061')],\n",
       "   'transactionHash': HexBytes('0x268d0ef897868058cd8c7b6547dbe3a5886ec5a37f173f97718e0dbfc1446d49'),\n",
       "   'transactionIndex': 0,\n",
       "   'transactionLogIndex': '0x3',\n",
       "   'type': 'mined'}),\n",
       "  AttributeDict({'address': '0x279e0cF58d6B3913C917222A61ba9ef5E9fF8057',\n",
       "   'blockHash': HexBytes('0x094b050f91f59e7513f4b4fff5bb0a4b3d2cb8af6583613104cb55ae8cfec813'),\n",
       "   'blockNumber': 29021340,\n",
       "   'data': '0x000000000000000000000000000000000000000000000000000000000000000e',\n",
       "   'logIndex': 4,\n",
       "   'removed': False,\n",
       "   'topics': [HexBytes('0x7abe8fd2d210cf1e5d2cb3e277afd776d77269c8869b02c39f0bb542de0fdba1'),\n",
       "    HexBytes('0x00000000000000000000000055904f2c4b672103a4e04e6bfcb1c5ddc4f41d6f'),\n",
       "    HexBytes('0x00000000000000000000000049518ffe12fcda824fb39ccea1ccedaf8a724feb'),\n",
       "    HexBytes('0x00000000000000000000000049518ffe12fcda824fb39ccea1ccedaf8a724feb')],\n",
       "   'transactionHash': HexBytes('0x268d0ef897868058cd8c7b6547dbe3a5886ec5a37f173f97718e0dbfc1446d49'),\n",
       "   'transactionIndex': 0,\n",
       "   'transactionLogIndex': '0x4',\n",
       "   'type': 'mined'})],\n",
       " 'logsBloom': HexBytes('0x00000000000010000000000000100000000000002080000000000000000000000000000008000000002000000004000000400000800000000000000000200000000000000000000c00000008000000a00000100000000000000040008000001000000000020000000000000000080800080000000000000000000010000000000000010000000000000000000001000008000401000000000001000000000000020000040000000000000000000800000000000000000020000000000000000000000002008000000800000080000004000000040400000000200000000020000014110200000002000000000000000000000000000000400000000000000000'),\n",
       " 'status': 1,\n",
       " 'to': '0x279e0cF58d6B3913C917222A61ba9ef5E9fF8057',\n",
       " 'transactionHash': HexBytes('0x268d0ef897868058cd8c7b6547dbe3a5886ec5a37f173f97718e0dbfc1446d49'),\n",
       " 'transactionIndex': 0})"
      ]
     },
     "execution_count": 17,
     "metadata": {},
     "output_type": "execute_result"
    }
   ],
   "source": [
    "kovan_provider.eth.get_transaction_receipt(tx_hash)"
   ]
  },
  {
   "cell_type": "code",
   "execution_count": null,
   "id": "f8259e07-b0e7-41cb-a675-95392a0d74e7",
   "metadata": {},
   "outputs": [],
   "source": []
  }
 ],
 "metadata": {
  "kernelspec": {
   "display_name": "Python 3 (ipykernel)",
   "language": "python",
   "name": "python3"
  },
  "language_info": {
   "codemirror_mode": {
    "name": "ipython",
    "version": 3
   },
   "file_extension": ".py",
   "mimetype": "text/x-python",
   "name": "python",
   "nbconvert_exporter": "python",
   "pygments_lexer": "ipython3",
   "version": "3.9.0"
  }
 },
 "nbformat": 4,
 "nbformat_minor": 5
}
