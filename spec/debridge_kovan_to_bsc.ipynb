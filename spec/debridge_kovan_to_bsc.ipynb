{
 "cells": [
  {
   "cell_type": "code",
   "execution_count": 1,
   "id": "0379132e-3f41-4cdb-a410-433474d51f60",
   "metadata": {},
   "outputs": [],
   "source": [
    "import json\n",
    "from web3 import Web3\n",
    "from bip44 import Wallet\n",
    "from bip44.utils import get_eth_addr"
   ]
  },
  {
   "cell_type": "code",
   "execution_count": 2,
   "id": "7c71fb14-0be6-49a1-9cda-56c269075418",
   "metadata": {},
   "outputs": [],
   "source": [
    "def parse_tx_data(tx_data):\n",
    "    total_data_len_with_0x = len(tx_data)\n",
    "    total_data_len_without_0x = total_data_len_with_0x - 2\n",
    "    total_data_len_bytes = total_data_len_without_0x/2\n",
    "    print(f\"Total data len: {total_data_len_with_0x}({total_data_len_without_0x}) chars\")\n",
    "    print(f\"Total data len: {int(total_data_len_bytes)} bytes\")\n",
    "    func_selector = tx_data[0:10]\n",
    "    print(f\"Function selector: {func_selector}\")\n",
    "    tx_data = tx_data[10:]\n",
    "    arg_i = 0\n",
    "    while tx_data:\n",
    "        #print(tx_data)\n",
    "        arg_hex_value = tx_data[0:64]\n",
    "        print(f\"Arg {arg_i}: {arg_hex_value}\")\n",
    "        tx_data = tx_data[64:]\n",
    "        arg_i += 1\n",
    "        "
   ]
  },
  {
   "cell_type": "code",
   "execution_count": 3,
   "id": "cbb6d339-cb5f-4cd8-8ddd-0ac025460bb5",
   "metadata": {},
   "outputs": [],
   "source": [
    "MNEMONIC = \"test test test test test test test test test test test junk\"\n",
    "w = Wallet(MNEMONIC)\n",
    "sk, pk = w.derive_account(\"eth\", address_index=0)\n",
    "sender = get_eth_addr(pk)\n",
    "ZERO_ADDRESS = \"0x0000000000000000000000000000000000000000\"\n",
    "ETHER = int(1e18)\n",
    "\n",
    "# Minimal exec fee that is executed automatically by debridge oracles\n",
    "DEBRIDGE_EXEC_FEE = int(0.02 * ETHER)"
   ]
  },
  {
   "cell_type": "code",
   "execution_count": 4,
   "id": "9e6624d1-5f8c-45a6-ba99-fbeac93d8e2f",
   "metadata": {},
   "outputs": [],
   "source": [
    "with open('abis/DeBridgeGate.json') as json_file:\n",
    "    debridge_gate_abi = json.load(json_file)"
   ]
  },
  {
   "cell_type": "code",
   "execution_count": 5,
   "id": "1d93f917-5356-4e43-9f9f-d76b5d568a35",
   "metadata": {},
   "outputs": [],
   "source": [
    "kovan_provider = Web3(Web3.HTTPProvider(\"https://kovan.poa.network\"))\n",
    "#bsc_testnet_provider = Web3(Web3.HTTPProvider(\"https://data-seed-prebsc-1-s1.binance.org:8545/\"))\n",
    "bsc_testnet_chain_id = 97"
   ]
  },
  {
   "cell_type": "code",
   "execution_count": 6,
   "id": "81b9c244-5f60-458c-8a69-cbb6584695f1",
   "metadata": {},
   "outputs": [],
   "source": [
    "kovan_debridge_gate = kovan_provider.eth.contract(address='0x68D936Cb4723BdD38C488FD50514803f96789d2D', abi=debridge_gate_abi['abi'])"
   ]
  },
  {
   "cell_type": "code",
   "execution_count": 7,
   "id": "4b29f702-51d3-4e79-9aca-e165c7f0349f",
   "metadata": {},
   "outputs": [
    {
     "data": {
      "text/plain": [
       "10000000000000000"
      ]
     },
     "execution_count": 7,
     "metadata": {},
     "output_type": "execute_result"
    }
   ],
   "source": [
    "global_fixed_nativeFee = kovan_debridge_gate.functions.globalFixedNativeFee().call()\n",
    "global_fixed_nativeFee"
   ]
  },
  {
   "cell_type": "code",
   "execution_count": 8,
   "id": "7d9f8b3f-b2f6-46eb-8368-8ad1e2143ce7",
   "metadata": {},
   "outputs": [],
   "source": [
    "# took this from successful Tx initiated via frontend\n",
    "# this should be creted by pythonoc packer that produces the same result as `packSubmissionAutoParamsTo`\n",
    "packed_submission_auto_params_to = \"0000000000000000000000000000000000000000000000000000000000000020000000000000000000000000000000000000000000000000002386f26fc100000000000000000000000000000000000000000000000000000000000000000000000000000000000000000000000000000000000000000000000000000000008000000000000000000000000000000000000000000000000000000000000000c0000000000000000000000000000000000000000000000000000000000000001476406dbba94f497fa430da5dbd32eda10a3b58860000000000000000000000000000000000000000000000000000000000000000000000000000000000000004d09de08a00000000000000000000000000000000000000000000000000000000\"\n"
   ]
  },
  {
   "cell_type": "code",
   "execution_count": 9,
   "id": "cf82897f-46cc-4936-a299-382c56976b58",
   "metadata": {},
   "outputs": [],
   "source": [
    "# contract on the destination network\n",
    "destination = \"0x31649ac584eBcBfD465b49304eB27574B2111F0B\""
   ]
  },
  {
   "cell_type": "code",
   "execution_count": 10,
   "id": "8e5dafea-b9d3-4358-9d28-2178c4cd9a10",
   "metadata": {},
   "outputs": [
    {
     "data": {
      "text/plain": [
       "30000000000000000"
      ]
     },
     "execution_count": 10,
     "metadata": {},
     "output_type": "execute_result"
    }
   ],
   "source": [
    "value = global_fixed_nativeFee + DEBRIDGE_EXEC_FEE\n",
    "value"
   ]
  },
  {
   "cell_type": "code",
   "execution_count": 11,
   "id": "d14e4f36-0c34-498f-bf9b-27f08077b74c",
   "metadata": {},
   "outputs": [
    {
     "data": {
      "text/plain": [
       "{'chainId': 42,\n",
       " 'from': '0xf39Fd6e51aad88F6F4ce6aB8827279cffFb92266',\n",
       " 'nonce': 2595,\n",
       " 'gasPrice': 10000000000,\n",
       " 'gas': 1000000,\n",
       " 'value': 30000000000000000,\n",
       " 'to': '0x68D936Cb4723BdD38C488FD50514803f96789d2D',\n",
       " 'data': '0xbe2974760000000000000000000000000000000000000000000000000000000000000000000000000000000000000000000000000000000000000000006a94d74f4300000000000000000000000000000000000000000000000000000000000000000061000000000000000000000000000000000000000000000000000000000000010000000000000000000000000000000000000000000000000000000000000001400000000000000000000000000000000000000000000000000000000000000000000000000000000000000000000000000000000000000000000000000000006f0000000000000000000000000000000000000000000000000000000000000180000000000000000000000000000000000000000000000000000000000000001431649ac584ebcbfd465b49304eb27574b2111f0b0000000000000000000000000000000000000000000000000000000000000000000000000000000000000000000000000000000000000000000000000000000000000000000000000000000000000000000000000000000000000000000000000000000000000000000001200000000000000000000000000000000000000000000000000000000000000020000000000000000000000000000000000000000000000000002386f26fc100000000000000000000000000000000000000000000000000000000000000000000000000000000000000000000000000000000000000000000000000000000008000000000000000000000000000000000000000000000000000000000000000c0000000000000000000000000000000000000000000000000000000000000001476406dbba94f497fa430da5dbd32eda10a3b58860000000000000000000000000000000000000000000000000000000000000000000000000000000000000004d09de08a00000000000000000000000000000000000000000000000000000000'}"
      ]
     },
     "execution_count": 11,
     "metadata": {},
     "output_type": "execute_result"
    }
   ],
   "source": [
    "tx = kovan_debridge_gate.functions.send(ZERO_ADDRESS, 30000000000000000, bsc_testnet_chain_id, destination, \"\", False, 111, packed_submission_auto_params_to).buildTransaction({\"from\": sender, \"nonce\": kovan_provider.eth.get_transaction_count(sender),\n",
    " \"gasPrice\": 10_000_000_000, \"gas\": 1_000_000, \"value\": value })\n",
    "tx"
   ]
  },
  {
   "cell_type": "code",
   "execution_count": 12,
   "id": "810ec8be-6ea6-4a10-8827-1de18cf6f0ed",
   "metadata": {},
   "outputs": [
    {
     "name": "stdout",
     "output_type": "stream",
     "text": [
      "Total data len: 1354(1352) chars\n",
      "Total data len: 676 bytes\n",
      "Function selector: 0xbe297476\n",
      "Arg 0: 0000000000000000000000000000000000000000000000000000000000000000\n",
      "Arg 1: 000000000000000000000000000000000000000000000000006a94d74f430000\n",
      "Arg 2: 0000000000000000000000000000000000000000000000000000000000000061\n",
      "Arg 3: 0000000000000000000000000000000000000000000000000000000000000100\n",
      "Arg 4: 0000000000000000000000000000000000000000000000000000000000000140\n",
      "Arg 5: 0000000000000000000000000000000000000000000000000000000000000000\n",
      "Arg 6: 000000000000000000000000000000000000000000000000000000000000006f\n",
      "Arg 7: 0000000000000000000000000000000000000000000000000000000000000160\n",
      "Arg 8: 0000000000000000000000000000000000000000000000000000000000000014\n",
      "Arg 9: 31649ac584ebcbfd465b49304eb27574b2111f0b000000000000000000000000\n",
      "Arg 10: 0000000000000000000000000000000000000000000000000000000000000000\n",
      "Arg 11: 0000000000000000000000000000000000000000000000000000000000000120\n",
      "Arg 12: 0000000000000000000000000000000000000000000000000000000000000020\n",
      "Arg 13: 000000000000000000000000000000000000000000000000002386f26fc10000\n",
      "Arg 14: 0000000000000000000000000000000000000000000000000000000000000000\n",
      "Arg 15: 0000000000000000000000000000000000000000000000000000000000000080\n",
      "Arg 16: 00000000000000000000000000000000000000000000000000000000000000c0\n",
      "Arg 17: 0000000000000000000000000000000000000000000000000000000000000014\n",
      "Arg 18: 76406dbba94f497fa430da5dbd32eda10a3b5886000000000000000000000000\n",
      "Arg 19: 0000000000000000000000000000000000000000000000000000000000000004\n",
      "Arg 20: d09de08a00000000000000000000000000000000000000000000000000000000\n"
     ]
    }
   ],
   "source": [
    "# This is dirty fix for call data normalization\n",
    "\n",
    "# we strip redundant argument first (bug in pythonic packer?)\n",
    "\n",
    "argument_to_remove = 10\n",
    "txdata = tx['data'][:10+64*argument_to_remove] + tx['data'][10+64*(argument_to_remove+1):]\n",
    "\n",
    "# replace 0x0180 to 0x0160 (serializer delimiter?)\n",
    "\n",
    "argument_to_remove = 7\n",
    "txdata = txdata[:10+64*argument_to_remove] + \"0000000000000000000000000000000000000000000000000000000000000160\" + txdata[10+64*(argument_to_remove+1):]\n",
    "\n",
    "\n",
    "# setFee\n",
    "hex_formatted_value = hex(value)[2:].zfill(64)\n",
    "argument_to_remove = 1\n",
    "txdata = txdata[:10+64*argument_to_remove] + hex_formatted_value + txdata[10+64*(argument_to_remove+1):]\n",
    "parse_tx_data(txdata)\n"
   ]
  },
  {
   "cell_type": "code",
   "execution_count": 13,
   "id": "61b01af7-7470-4f2c-a4fe-e097286bd5d4",
   "metadata": {},
   "outputs": [],
   "source": [
    "# replace tx data with patched one\n",
    "tx['data'] = txdata"
   ]
  },
  {
   "cell_type": "code",
   "execution_count": 14,
   "id": "da184924-ba76-4295-9c65-cddd8ffb4b59",
   "metadata": {},
   "outputs": [],
   "source": [
    "raw_tx = kovan_provider.eth.account.sign_transaction(tx, sk).rawTransaction"
   ]
  },
  {
   "cell_type": "code",
   "execution_count": 15,
   "id": "f05adeee-298f-42b2-be17-ca0305b7427d",
   "metadata": {},
   "outputs": [
    {
     "data": {
      "text/plain": [
       "HexBytes('0xba67767466e9d0eb23663fe5d0754ad555e6c9f512a36e6351fc74ce8bc95fb5')"
      ]
     },
     "execution_count": 15,
     "metadata": {},
     "output_type": "execute_result"
    }
   ],
   "source": [
    "tx_hash = kovan_provider.eth.send_raw_transaction(raw_tx)\n",
    "tx_hash"
   ]
  },
  {
   "cell_type": "code",
   "execution_count": 16,
   "id": "04d47a48-19c8-424f-9611-717ca332331f",
   "metadata": {},
   "outputs": [
    {
     "name": "stdout",
     "output_type": "stream",
     "text": [
      "https://testswap.debridge.finance/transaction?tx=0xba67767466e9d0eb23663fe5d0754ad555e6c9f512a36e6351fc74ce8bc95fb5&chainId=42\n"
     ]
    }
   ],
   "source": [
    "print(\"https://testswap.debridge.finance/transaction?tx=\" + tx_hash.hex() + \"&chainId=42\")"
   ]
  },
  {
   "cell_type": "code",
   "execution_count": 18,
   "id": "5abe955e-013a-4679-9256-44ed2f5697a8",
   "metadata": {},
   "outputs": [
    {
     "data": {
      "text/plain": [
       "AttributeDict({'blockHash': HexBytes('0xd73511b741e940fd19363876ac36caa3c8ad52ff380715ea753ece1b576f8414'),\n",
       " 'blockNumber': 28992764,\n",
       " 'contractAddress': None,\n",
       " 'cumulativeGasUsed': 107492,\n",
       " 'effectiveGasPrice': 10000000000,\n",
       " 'from': '0xf39Fd6e51aad88F6F4ce6aB8827279cffFb92266',\n",
       " 'gasUsed': 107492,\n",
       " 'logs': [AttributeDict({'address': '0xd0A1E359811322d97991E03f863a0C30C2cF029C',\n",
       "   'blockHash': HexBytes('0xd73511b741e940fd19363876ac36caa3c8ad52ff380715ea753ece1b576f8414'),\n",
       "   'blockNumber': 28992764,\n",
       "   'data': '0x000000000000000000000000000000000000000000000000006a94d74f430000',\n",
       "   'logIndex': 0,\n",
       "   'removed': False,\n",
       "   'topics': [HexBytes('0xe1fffcc4923d04b559f4d29a8bfc6cda04eb5b0d3c460751c2402c5c5cc9109c'),\n",
       "    HexBytes('0x00000000000000000000000068d936cb4723bdd38c488fd50514803f96789d2d')],\n",
       "   'transactionHash': HexBytes('0xba67767466e9d0eb23663fe5d0754ad555e6c9f512a36e6351fc74ce8bc95fb5'),\n",
       "   'transactionIndex': 0,\n",
       "   'transactionLogIndex': '0x0',\n",
       "   'type': 'mined'}),\n",
       "  AttributeDict({'address': '0x68D936Cb4723BdD38C488FD50514803f96789d2D',\n",
       "   'blockHash': HexBytes('0xd73511b741e940fd19363876ac36caa3c8ad52ff380715ea753ece1b576f8414'),\n",
       "   'blockNumber': 28992764,\n",
       "   'data': '0xfa0808ac38caacd4c9ab9f48ae49e6edcddc3ea78efb6304e49e4d3589e074d000000000000000000000000000000000000000000000000000236ba98469200000000000000000000000000000000000000000000000000000000000000001800000000000000000000000000000000000000000000000000000000000018f2a000000000000000000000000000000000000000000000000000000000000006f000000000000000000000000000000000000000000000000006a94d74f430000000000000000000000000000000000000000000000000000002386f26fc1000000000000000000000000000000000000000000000000000000001b48eb57e0000000000000000000000000000000000000000000000000000000000000000001000000000000000000000000000000000000000000000000000000000000000100000000000000000000000000000000000000000000000000000000000001c0000000000000000000000000f39fd6e51aad88f6f4ce6ab8827279cfffb92266000000000000000000000000000000000000000000000000000000000000001431649ac584ebcbfd465b49304eb27574b2111f0b00000000000000000000000000000000000000000000000000000000000000000000000000000000000001200000000000000000000000000000000000000000000000000000000000000020000000000000000000000000000000000000000000000000002386f26fc100000000000000000000000000000000000000000000000000000000000000000000000000000000000000000000000000000000000000000000000000000000008000000000000000000000000000000000000000000000000000000000000000c0000000000000000000000000000000000000000000000000000000000000001476406dbba94f497fa430da5dbd32eda10a3b58860000000000000000000000000000000000000000000000000000000000000000000000000000000000000004d09de08a00000000000000000000000000000000000000000000000000000000',\n",
       "   'logIndex': 1,\n",
       "   'removed': False,\n",
       "   'topics': [HexBytes('0xe315721819a1f353fe56de404206bdd896ab5edc7822f1804a8c4c2c4788174c'),\n",
       "    HexBytes('0x9805a0d9ee98ce5dae28a1799074e6121c863794c241beefd9dc1b0b083018e9'),\n",
       "    HexBytes('0x0000000000000000000000000000000000000000000000000000000000000061')],\n",
       "   'transactionHash': HexBytes('0xba67767466e9d0eb23663fe5d0754ad555e6c9f512a36e6351fc74ce8bc95fb5'),\n",
       "   'transactionIndex': 0,\n",
       "   'transactionLogIndex': '0x1',\n",
       "   'type': 'mined'})],\n",
       " 'logsBloom': HexBytes('0x00000000000000000000000000000000000000002000000000000000000000000000000008000000002000000004000000000000800000000000000000000000000000000000000000000000000000000000100000000000000000008000001000000000000000000000000000080000080000000000000000000000000000000000000000000000000000000000000000000001000000000001000000000000000000040000000000000000000000000000000000000000000000000000000000000000000000000000000080000004000000000400000000000000000000000004100200000002000000000000000000000000000000400000000000000000'),\n",
       " 'status': 1,\n",
       " 'to': '0x68D936Cb4723BdD38C488FD50514803f96789d2D',\n",
       " 'transactionHash': HexBytes('0xba67767466e9d0eb23663fe5d0754ad555e6c9f512a36e6351fc74ce8bc95fb5'),\n",
       " 'transactionIndex': 0})"
      ]
     },
     "execution_count": 18,
     "metadata": {},
     "output_type": "execute_result"
    }
   ],
   "source": [
    "kovan_provider.eth.get_transaction_receipt(tx_hash)"
   ]
  },
  {
   "cell_type": "code",
   "execution_count": null,
   "id": "f8259e07-b0e7-41cb-a675-95392a0d74e7",
   "metadata": {},
   "outputs": [],
   "source": []
  }
 ],
 "metadata": {
  "kernelspec": {
   "display_name": "Python 3 (ipykernel)",
   "language": "python",
   "name": "python3"
  },
  "language_info": {
   "codemirror_mode": {
    "name": "ipython",
    "version": 3
   },
   "file_extension": ".py",
   "mimetype": "text/x-python",
   "name": "python",
   "nbconvert_exporter": "python",
   "pygments_lexer": "ipython3",
   "version": "3.9.0"
  }
 },
 "nbformat": 4,
 "nbformat_minor": 5
}
